{
  "nbformat": 4,
  "nbformat_minor": 0,
  "metadata": {
    "colab": {
      "provenance": [],
      "collapsed_sections": [],
      "authorship_tag": "ABX9TyNHb6n34uA0Ik8W6qOIzRBn",
      "include_colab_link": true
    },
    "kernelspec": {
      "name": "python3",
      "display_name": "Python 3"
    },
    "language_info": {
      "name": "python"
    }
  },
  "cells": [
    {
      "cell_type": "markdown",
      "metadata": {
        "id": "view-in-github",
        "colab_type": "text"
      },
      "source": [
        "<a href=\"https://colab.research.google.com/github/ElisabethKugler/EK-ML-Python/blob/main/EK_Tensorflow_ImageClassification_withAugmentation.ipynb\" target=\"_parent\"><img src=\"https://colab.research.google.com/assets/colab-badge.svg\" alt=\"Open In Colab\"/></a>"
      ]
    },
    {
      "cell_type": "markdown",
      "source": [
        "# Image Classification with Augmentation: \n",
        "from the Udacity Course \"Introduction to Tensorflow\" - https://github.com/tensorflow/examples\n",
        "use Google Colab \"https://colab.research.google.com/?utm_source=scs-index\""
      ],
      "metadata": {
        "id": "fm5-lik7ZZwg"
      }
    },
    {
      "cell_type": "code",
      "execution_count": null,
      "metadata": {
        "id": "5MXJY6jRZOof"
      },
      "outputs": [],
      "source": []
    }
  ]
}
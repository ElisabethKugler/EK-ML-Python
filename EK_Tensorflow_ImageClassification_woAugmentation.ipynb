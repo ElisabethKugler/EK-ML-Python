{
  "nbformat": 4,
  "nbformat_minor": 0,
  "metadata": {
    "colab": {
      "provenance": [],
      "collapsed_sections": [],
      "authorship_tag": "ABX9TyMFo9fPHnQWcBEf4fnEBruh",
      "include_colab_link": true
    },
    "kernelspec": {
      "name": "python3",
      "display_name": "Python 3"
    },
    "language_info": {
      "name": "python"
    }
  },
  "cells": [
    {
      "cell_type": "markdown",
      "metadata": {
        "id": "view-in-github",
        "colab_type": "text"
      },
      "source": [
        "<a href=\"https://colab.research.google.com/github/ElisabethKugler/EK-ML-Python/blob/main/EK_Tensorflow_ImageClassification_woAugmentation.ipynb\" target=\"_parent\"><img src=\"https://colab.research.google.com/assets/colab-badge.svg\" alt=\"Open In Colab\"/></a>"
      ]
    },
    {
      "cell_type": "markdown",
      "source": [
        "# Image Classification without Augmentation: \n",
        "from the Udacity Course \"Introduction to Tensorflow\" - https://github.com/tensorflow/examples\n",
        "use Google Colab \"https://colab.research.google.com/?utm_source=scs-index\""
      ],
      "metadata": {
        "id": "uT9QLVylX-zH"
      }
    },
    {
      "cell_type": "code",
      "execution_count": null,
      "metadata": {
        "id": "acZXp6LdXZUT"
      },
      "outputs": [],
      "source": []
    }
  ]
}